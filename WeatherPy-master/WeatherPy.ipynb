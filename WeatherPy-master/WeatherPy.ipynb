{
 "cells": [
  {
   "cell_type": "markdown",
   "metadata": {},
   "source": [
    "# Weather Analysis\n",
    "## Overview\n",
    "### This Python script will visualize the weather of 500 unique cities across the world in random locations selected using Citypy. Citipy is a city-finding python package that was used to find randomly located cities. The OpenWeatherMap API was used to return current weather statistics for those cities.\n",
    "\n",
    "### A series of scatter plots will be used to showcase the following relationships:\n",
    "* Temperature (F) vs. Latitude.\n",
    "* Humidity (%) vs. Latitude.\n",
    "* Cloudiness (%) vs. Latitude.\n",
    "* Wind Speed (mph) vs. Latitude.\n",
    "\n",
    "### The script will:\n",
    "* Randomly select at least 500 unique (non-repeat) cities based on latitude and longitude.\n",
    "* Perform a weather check on each of the cities using a series of successive API calls.\n",
    "* Include a print log of each city as it's being processed with the city number, city name, and requested URL.\n",
    "* Save both a CSV of all data retrieved and png images for each scatter plot."
   ]
  },
  {
   "cell_type": "markdown",
   "metadata": {
    "collapsed": true
   },
   "source": [
    "# WeatherPy\n",
    "\n",
    "Observable Trends:\n",
    "1. Temperature increases as the latitude approaches the equator (latitude 0).\n",
    "2. Humidity is more concentrated at higher values as the latitude approaches the equator (latitude 0).\n",
    "3. Wind speeds increase as the latitude goes away from the equator (latitude -90 and 90).\n"
   ]
  },
  {
   "cell_type": "code",
   "execution_count": 1,
   "metadata": {},
   "outputs": [],
   "source": [
    "# Dependencies and Setup\n",
    "import matplotlib.pyplot as plt\n",
    "import pandas as pd\n",
    "import numpy as np\n",
    "import requests\n",
    "import time\n",
    "\n",
    "# Import API key\n",
    "from api_keys import api_key\n",
    "\n",
    "# Incorporated citipy to determine city based on latitude and longitude\n",
    "from citipy import citipy\n",
    "\n",
    "# Output File (CSV)\n",
    "output_data_file = \"output_data/cities.csv\"\n",
    "\n",
    "# Range of latitudes and longitudes\n",
    "lat_range = (-90, 90)\n",
    "lng_range = (-180, 180)"
   ]
  },
  {
   "cell_type": "markdown",
   "metadata": {
    "collapsed": true
   },
   "source": [
    "## Data Retrieval"
   ]
  },
  {
   "cell_type": "code",
   "execution_count": 2,
   "metadata": {},
   "outputs": [],
   "source": [
    "# Declare variables describing the scope of lat/lng search for cities. \n",
    "# Lat ranges from -90 to 90. Lng ranges from -180 to 180.\n",
    "lat = {'min': -90, 'max': 90}\n",
    "lng = {'min': -180, 'max': 180}\n",
    "\n",
    "# Create arrays containing increments of lat and long.\n",
    "lat_values = np.arange(lat['min'], lat['max'], 0.01)\n",
    "lng_values = np.arange(lng['min'], lng['max'], 0.01)"
   ]
  },
  {
   "cell_type": "code",
   "execution_count": 3,
   "metadata": {},
   "outputs": [
    {
     "data": {
      "text/html": [
       "<div>\n",
       "<style scoped>\n",
       "    .dataframe tbody tr th:only-of-type {\n",
       "        vertical-align: middle;\n",
       "    }\n",
       "\n",
       "    .dataframe tbody tr th {\n",
       "        vertical-align: top;\n",
       "    }\n",
       "\n",
       "    .dataframe thead th {\n",
       "        text-align: right;\n",
       "    }\n",
       "</style>\n",
       "<table border=\"1\" class=\"dataframe\">\n",
       "  <thead>\n",
       "    <tr style=\"text-align: right;\">\n",
       "      <th></th>\n",
       "      <th>city_name</th>\n",
       "      <th>country_code</th>\n",
       "      <th>rand_lat</th>\n",
       "      <th>rand_lng</th>\n",
       "      <th>Latitude</th>\n",
       "      <th>Longitude</th>\n",
       "      <th>Temp (F)</th>\n",
       "      <th>Humidity (%)</th>\n",
       "      <th>Cloudiness (%)</th>\n",
       "      <th>Wind Speed (mph)</th>\n",
       "    </tr>\n",
       "  </thead>\n",
       "  <tbody>\n",
       "  </tbody>\n",
       "</table>\n",
       "</div>"
      ],
      "text/plain": [
       "Empty DataFrame\n",
       "Columns: [city_name, country_code, rand_lat, rand_lng, Latitude, Longitude, Temp (F), Humidity (%), Cloudiness (%), Wind Speed (mph)]\n",
       "Index: []"
      ]
     },
     "execution_count": 3,
     "metadata": {},
     "output_type": "execute_result"
    }
   ],
   "source": [
    "# Create an empty data frame to city and weather data\n",
    "column_names = ('city_name', 'country_code', 'rand_lat', 'rand_lng', 'Latitude', 'Longitude','Temp (F)',\n",
    "            'Humidity (%)','Cloudiness (%)','Wind Speed (mph)')\n",
    "cities_df = pd.DataFrame(columns = column_names)\n",
    "cities_df"
   ]
  },
  {
   "cell_type": "code",
   "execution_count": 5,
   "metadata": {},
   "outputs": [
    {
     "ename": "NameError",
     "evalue": "name 'random' is not defined",
     "output_type": "error",
     "traceback": [
      "\u001b[0;31m---------------------------------------------------------------------------\u001b[0m",
      "\u001b[0;31mNameError\u001b[0m                                 Traceback (most recent call last)",
      "\u001b[0;32m<ipython-input-5-a888a13957a0>\u001b[0m in \u001b[0;36m<module>\u001b[0;34m\u001b[0m\n\u001b[1;32m      3\u001b[0m \u001b[0;32mwhile\u001b[0m \u001b[0mlen\u001b[0m\u001b[0;34m(\u001b[0m\u001b[0mcities_df\u001b[0m\u001b[0;34m)\u001b[0m \u001b[0;34m<\u001b[0m \u001b[0msample_size\u001b[0m\u001b[0;34m:\u001b[0m\u001b[0;34m\u001b[0m\u001b[0;34m\u001b[0m\u001b[0m\n\u001b[1;32m      4\u001b[0m     \u001b[0;31m# Choose a random point within our lat-lng domain.\u001b[0m\u001b[0;34m\u001b[0m\u001b[0;34m\u001b[0m\u001b[0;34m\u001b[0m\u001b[0m\n\u001b[0;32m----> 5\u001b[0;31m     \u001b[0mrand_lat\u001b[0m \u001b[0;34m=\u001b[0m \u001b[0mrandom\u001b[0m\u001b[0;34m.\u001b[0m\u001b[0mchoice\u001b[0m\u001b[0;34m(\u001b[0m\u001b[0mlat_values\u001b[0m\u001b[0;34m)\u001b[0m\u001b[0;34m\u001b[0m\u001b[0;34m\u001b[0m\u001b[0m\n\u001b[0m\u001b[1;32m      6\u001b[0m     \u001b[0mrand_lng\u001b[0m \u001b[0;34m=\u001b[0m \u001b[0mrandom\u001b[0m\u001b[0;34m.\u001b[0m\u001b[0mchoice\u001b[0m\u001b[0;34m(\u001b[0m\u001b[0mlng_values\u001b[0m\u001b[0;34m)\u001b[0m\u001b[0;34m\u001b[0m\u001b[0;34m\u001b[0m\u001b[0m\n\u001b[1;32m      7\u001b[0m     \u001b[0;31m# Call citipy's nearest_city() method to get a city object.\u001b[0m\u001b[0;34m\u001b[0m\u001b[0;34m\u001b[0m\u001b[0;34m\u001b[0m\u001b[0m\n",
      "\u001b[0;31mNameError\u001b[0m: name 'random' is not defined"
     ]
    }
   ],
   "source": [
    "# Loop through and grab the Temp, Humidity, Cloudiness and Wind Speed using OpenWeatherMapAPI\n",
    "    \n",
    "while len(cities_df) < sample_size:\n",
    "    # Choose a random point within our lat-lng domain.\n",
    "    rand_lat = random.choice(lat_values)\n",
    "    rand_lng = random.choice(lng_values)\n",
    "    # Call citipy's nearest_city() method to get a city object.\n",
    "    city = citipy.nearest_city(rand_lat, rand_lng)\n",
    "    city_name = city.city_name\n",
    "    country_code = city.country_code\n",
    "    # Call Open Weather Map API to obtain data and append it to df\n",
    "    url = target_url + city_name + ',' + country_code + '&units=' + units + '&APPID=' + api_key\n",
    "    weather_response = requests.get(url)\n",
    "    weather_json = weather_response.json()\n",
    "    if weather_json[\"cod\"] == 200:\n",
    "        print('City: %s. %s' % (weather_json['name'], url))\n",
    "        latitude = weather_json[\"coord\"][\"lat\"]\n",
    "        longitude = weather_json[\"coord\"][\"lon\"]\n",
    "        temp = weather_json[\"main\"][\"temp\"]\n",
    "        humidity = weather_json[\"main\"][\"humidity\"]\n",
    "        cloud = weather_json[\"clouds\"][\"all\"]\n",
    "        wind = weather_json[\"wind\"][\"speed\"]\n",
    "        # Avoid repeating cities\n",
    "        if city_name not in cities_df.city_name.values:\n",
    "            print('Status code: %s. DF length is now: %d' % (str(weather_json[\"cod\"]), len(cities_df)+1))\n",
    "            # Append data to df columns\n",
    "            cities_df.set_value(record, \"city_name\", city_name)\n",
    "            cities_df.set_value(record, \"country_code\", country_code)\n",
    "            cities_df.set_value(record, \"rand_lat\", rand_lat)\n",
    "            cities_df.set_value(record, \"rand_lng\", rand_lng)\n",
    "            cities_df.set_value(record, \"Latitude\", latitude)\n",
    "            cities_df.set_value(record, \"Longitude\", longitude)\n",
    "            cities_df.set_value(record, \"Temp (F)\", temp)\n",
    "            cities_df.set_value(record, \"Humidity (%)\", humidity)\n",
    "            cities_df.set_value(record, \"Cloudiness (%)\", cloud)\n",
    "            cities_df.set_value(record, \"Wind Speed (mph)\", wind)\n",
    "\n",
    "            record += 1\n",
    "        \n",
    "            # Wait between 1-4 seconds before next loop\n",
    "            time.sleep(random.randint(1, 4))\n",
    "        else:\n",
    "            pass\n",
    "    else:\n",
    "        pass\n",
    "    \n",
    "print(\n",
    "\"------------------------------\\n\"\n",
    "\"Data Retrieval Complete\\n\"\n",
    "\"------------------------------\\n\"\n",
    ")\n",
    "\n",
    "# Visualize df\n",
    "cities_df.head()"
   ]
  },
  {
   "cell_type": "code",
   "execution_count": null,
   "metadata": {},
   "outputs": [],
   "source": [
    "# The total sample size.\n",
    "len(cities_df)"
   ]
  },
  {
   "cell_type": "markdown",
   "metadata": {
    "collapsed": true
   },
   "source": [
    "## Save csv"
   ]
  },
  {
   "cell_type": "code",
   "execution_count": null,
   "metadata": {},
   "outputs": [],
   "source": [
    "# Save the DataFrame as a csv\n",
    "cities_df.to_csv(\"Output/weatherpy_data.csv\", encoding=\"utf-8\", index=False)"
   ]
  },
  {
   "cell_type": "markdown",
   "metadata": {
    "collapsed": true
   },
   "source": [
    "## Plot Graphs"
   ]
  },
  {
   "cell_type": "markdown",
   "metadata": {
    "collapsed": true
   },
   "source": [
    "###  Latitude vs. Temperature Plot"
   ]
  },
  {
   "cell_type": "code",
   "execution_count": null,
   "metadata": {},
   "outputs": [],
   "source": [
    "# Build a scatter plot City Latitude vs. Temperature\n",
    "sns.set_style('ticks')\n",
    "sns.set(style=\"darkgrid\")\n",
    "fig, ax = plt.subplots()\n",
    "p = sns.regplot(x=\"Latitude\", y=\"Temp (F)\", data=cities_df, fit_reg=False).set_title('Temp (F) by Latitude')\n",
    "\n",
    "# Save the figure\n",
    "plt.savefig(\"Output/lat_v_temp.png\")\n",
    "\n",
    "# Show plot\n",
    "plt.show()"
   ]
  },
  {
   "cell_type": "markdown",
   "metadata": {
    "collapsed": true
   },
   "source": [
    "### Latitude vs. Humidity Plot"
   ]
  },
  {
   "cell_type": "code",
   "execution_count": 3,
   "metadata": {
    "scrolled": false
   },
   "outputs": [
    {
     "ename": "NameError",
     "evalue": "name 'cities_df' is not defined",
     "output_type": "error",
     "traceback": [
      "\u001b[0;31m---------------------------------------------------------------------------\u001b[0m",
      "\u001b[0;31mNameError\u001b[0m                                 Traceback (most recent call last)",
      "\u001b[0;32m<ipython-input-3-f89cc2dc1a7e>\u001b[0m in \u001b[0;36m<module>\u001b[0;34m\u001b[0m\n\u001b[1;32m      3\u001b[0m \u001b[0msns\u001b[0m\u001b[0;34m.\u001b[0m\u001b[0mset\u001b[0m\u001b[0;34m(\u001b[0m\u001b[0mstyle\u001b[0m\u001b[0;34m=\u001b[0m\u001b[0;34m\"darkgrid\"\u001b[0m\u001b[0;34m)\u001b[0m\u001b[0;34m\u001b[0m\u001b[0;34m\u001b[0m\u001b[0m\n\u001b[1;32m      4\u001b[0m \u001b[0mfig\u001b[0m\u001b[0;34m,\u001b[0m \u001b[0max\u001b[0m \u001b[0;34m=\u001b[0m \u001b[0mplt\u001b[0m\u001b[0;34m.\u001b[0m\u001b[0msubplots\u001b[0m\u001b[0;34m(\u001b[0m\u001b[0;34m)\u001b[0m\u001b[0;34m\u001b[0m\u001b[0;34m\u001b[0m\u001b[0m\n\u001b[0;32m----> 5\u001b[0;31m \u001b[0mp\u001b[0m \u001b[0;34m=\u001b[0m \u001b[0msns\u001b[0m\u001b[0;34m.\u001b[0m\u001b[0mregplot\u001b[0m\u001b[0;34m(\u001b[0m\u001b[0mx\u001b[0m\u001b[0;34m=\u001b[0m\u001b[0;34m\"Latitude\"\u001b[0m\u001b[0;34m,\u001b[0m \u001b[0my\u001b[0m\u001b[0;34m=\u001b[0m\u001b[0;34m\"Humidity (%)\"\u001b[0m\u001b[0;34m,\u001b[0m \u001b[0mdata\u001b[0m\u001b[0;34m=\u001b[0m\u001b[0mcities_df\u001b[0m\u001b[0;34m,\u001b[0m \u001b[0mfit_reg\u001b[0m\u001b[0;34m=\u001b[0m\u001b[0;32mFalse\u001b[0m\u001b[0;34m)\u001b[0m\u001b[0;34m.\u001b[0m\u001b[0mset_title\u001b[0m\u001b[0;34m(\u001b[0m\u001b[0;34m'Humidity (%) by Latitude'\u001b[0m\u001b[0;34m)\u001b[0m\u001b[0;34m\u001b[0m\u001b[0;34m\u001b[0m\u001b[0m\n\u001b[0m\u001b[1;32m      6\u001b[0m \u001b[0;34m\u001b[0m\u001b[0m\n\u001b[1;32m      7\u001b[0m \u001b[0;31m# Save the figure\u001b[0m\u001b[0;34m\u001b[0m\u001b[0;34m\u001b[0m\u001b[0;34m\u001b[0m\u001b[0m\n",
      "\u001b[0;31mNameError\u001b[0m: name 'cities_df' is not defined"
     ]
    },
    {
     "data": {
      "image/png": "[encoded data removed]",
      "text/plain": [
       "<Figure size 432x288 with 1 Axes>"
      ]
     },
     "metadata": {},
     "output_type": "display_data"
    }
   ],
   "source": [
    "# Build a scatter plot City Latitude vs. Humidity\n",
    "sns.set_style('ticks')\n",
    "sns.set(style=\"darkgrid\")\n",
    "fig, ax = plt.subplots()\n",
    "p = sns.regplot(x=\"Latitude\", y=\"Humidity (%)\", data=cities_df, fit_reg=False).set_title('Humidity (%) by Latitude')\n",
    "\n",
    "# Save the figure\n",
    "plt.savefig(\"Output/lat_v_humidity.png\")\n",
    "\n",
    "# Show plot\n",
    "plt.show()"
   ]
  },
  {
   "cell_type": "markdown",
   "metadata": {
    "collapsed": true
   },
   "source": [
    "### Latitude vs. Cloudiness Plot"
   ]
  },
  {
   "cell_type": "code",
   "execution_count": null,
   "metadata": {},
   "outputs": [],
   "source": [
    "# Build a scatter plot City Latitude vs. Cloudiness\n",
    "sns.set_style('ticks')\n",
    "sns.set(style=\"darkgrid\")\n",
    "fig, ax = plt.subplots()\n",
    "p = sns.regplot(x=\"Latitude\", y=\"Cloudiness (%)\", data=cities_df, fit_reg=False).set_title('Cloud Cover (%) by Latitude')\n",
    "\n",
    "# Save the figure\n",
    "plt.savefig(\"Output/lat_v_cloud.png\")\n",
    "\n",
    "# Show plot\n",
    "plt.show()"
   ]
  },
  {
   "cell_type": "markdown",
   "metadata": {
    "collapsed": true
   },
   "source": [
    "### Latitude vs. Wind Speed Plot"
   ]
  },
  {
   "cell_type": "code",
   "execution_count": null,
   "metadata": {
    "scrolled": false
   },
   "outputs": [],
   "source": [
    "# Build a scatter plot City Latitude vs. Wind Speed\n",
    "sns.set_style('ticks')\n",
    "sns.set(style=\"darkgrid\")\n",
    "fig, ax = plt.subplots()\n",
    "p = sns.regplot(x=\"Latitude\", y=\"Wind Speed (mph)\", data=cities_df, fit_reg=False).set_title('Wind Speed (mph) by Latitude')\n",
    "\n",
    "# Save the figure\n",
    "plt.savefig(\"Output/lat_v_wind.png\")\n",
    "\n",
    "# Show plot\n",
    "plt.show()"
   ]
  }
 ],
 "metadata": {
  "kernelspec": {
   "display_name": "Python 3",
   "language": "python",
   "name": "python3"
  },
  "language_info": {
   "codemirror_mode": {
    "name": "ipython",
    "version": 3
   },
   "file_extension": ".py",
   "mimetype": "text/x-python",
   "name": "python",
   "nbconvert_exporter": "python",
   "pygments_lexer": "ipython3",
   "version": "3.7.3"
  }
 },
 "nbformat": 4,
 "nbformat_minor": 2
}
